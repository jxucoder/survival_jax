{
 "cells": [
  {
   "cell_type": "code",
   "execution_count": 1,
   "id": "05d49dbc-539e-4c2d-8986-4373bcc4cb85",
   "metadata": {},
   "outputs": [],
   "source": [
    "import survival_jax\n",
    "import numpy as np"
   ]
  },
  {
   "cell_type": "code",
   "execution_count": 2,
   "id": "52182e5e-4ec7-4230-86bf-02a007a477db",
   "metadata": {},
   "outputs": [],
   "source": [
    "from survival_jax.estimator.coxph import CoxPH"
   ]
  },
  {
   "cell_type": "code",
   "execution_count": 3,
   "id": "dabaee3c-e1ee-4090-96af-5d8ea8b17234",
   "metadata": {},
   "outputs": [],
   "source": [
    "from sksurv.datasets import load_whas500\n",
    "from sksurv.linear_model import CoxPHSurvivalAnalysis\n",
    "\n",
    "X, y = load_whas500()\n",
    "X = X.astype(float)\n",
    "\n",
    "estimator = CoxPHSurvivalAnalysis().fit(X, y)\n",
    "\n",
    "times = np.array([e[1] for e in y])\n",
    "events = np.array([e[0] for e in y])"
   ]
  },
  {
   "cell_type": "code",
   "execution_count": 4,
   "id": "6f8c7501-80d7-46d7-a30a-eb77ba3dfd9a",
   "metadata": {},
   "outputs": [
    {
     "data": {
      "text/plain": [
       "array([ 0.03517731,  0.04730826,  0.30757313, -0.04714518,  0.73202556,\n",
       "       -0.05631741, -0.01265104, -0.29075386,  0.01208626, -0.00681732,\n",
       "        0.08421607, -0.24015175,  1.22662427,  0.00154935])"
      ]
     },
     "execution_count": 4,
     "metadata": {},
     "output_type": "execute_result"
    }
   ],
   "source": [
    "estimator.coef_"
   ]
  },
  {
   "cell_type": "code",
   "execution_count": 5,
   "id": "825b2e7a-3504-4fe9-9210-98c5d558d49a",
   "metadata": {},
   "outputs": [],
   "source": [
    "model = CoxPH()"
   ]
  },
  {
   "cell_type": "code",
   "execution_count": 6,
   "id": "a86b78a0-a8bb-4258-a66a-8d7466ac3b28",
   "metadata": {},
   "outputs": [
    {
     "data": {
      "text/plain": [
       "array([ 0.03392415,  0.04732391,  0.29025557, -0.04714198,  0.73037112,\n",
       "       -0.05131356, -0.01263375, -0.28877632,  0.01207979, -0.00676522,\n",
       "        0.08122485, -0.23642838,  1.22036151,  0.00152863])"
      ]
     },
     "execution_count": 6,
     "metadata": {},
     "output_type": "execute_result"
    }
   ],
   "source": [
    "model.fit(X, events=events, times=times)"
   ]
  },
  {
   "cell_type": "code",
   "execution_count": null,
   "id": "dfd6f9da-ccb8-45f9-bcd4-8cd8b1c37cb6",
   "metadata": {},
   "outputs": [],
   "source": []
  }
 ],
 "metadata": {
  "kernelspec": {
   "display_name": "Python 3 (ipykernel)",
   "language": "python",
   "name": "python3"
  },
  "language_info": {
   "codemirror_mode": {
    "name": "ipython",
    "version": 3
   },
   "file_extension": ".py",
   "mimetype": "text/x-python",
   "name": "python",
   "nbconvert_exporter": "python",
   "pygments_lexer": "ipython3",
   "version": "3.8.2"
  }
 },
 "nbformat": 4,
 "nbformat_minor": 5
}
